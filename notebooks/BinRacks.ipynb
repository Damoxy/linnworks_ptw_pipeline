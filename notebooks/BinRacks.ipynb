{
 "cells": [
  {
   "cell_type": "code",
   "execution_count": null,
   "id": "a3365a87-6420-47d5-b76c-30033d1ee49a",
   "metadata": {},
   "outputs": [],
   "source": [
    "import requests\n",
    "\n",
    "url = \"https://api.linnworks.net/api/Auth/AuthorizeByApplication\"\n",
    "\n",
    "payload = {\n",
    "    \"ApplicationId\": \"ApplicationId\",\n",
    "    \"ApplicationSecret\": \"ApplicationSecret\",\n",
    "    \"Token\": \"Token\"\n",
    "}\n",
    "headers = {\n",
    "    \"accept\": \"application/json\",\n",
    "    \"content-type\": \"application/json\"\n",
    "}\n",
    "\n",
    "response = requests.post(url, json=payload, headers=headers)\n",
    "\n",
    "# Parse JSON response\n",
    "data = response.json()\n",
    "\n",
    "# Assuming the token is inside a key named 'Token' or 'AccessToken' or similar:\n",
    "YOUR_ACCESS_TOKEN = data.get(\"Token\")\n",
    "\n",
    "print(YOUR_ACCESS_TOKEN)\n"
   ]
  },
  {
   "cell_type": "code",
   "execution_count": null,
   "id": "cf46c3bf-8517-4f9a-ac2b-bf710f8e6eb5",
   "metadata": {},
   "outputs": [
    {
     "name": "stdout",
     "output_type": "stream",
     "text": [
      "Fetched page 1/4, 100 orders\n",
      "Fetched page 2/4, 100 orders\n",
      "Fetched page 3/4, 100 orders\n",
      "Fetched page 4/4, 70 orders\n"
     ]
    }
   ],
   "source": [
    "import requests\n",
    "import pandas as pd\n",
    "from datetime import datetime\n",
    "\n",
    "#url=\"https://eu-ext.linnworks.net/api/PurchaseOrder/Get_PurchaseOrder\"\n",
    "url = \"https://eu-ext.linnworks.net/api/PurchaseOrder/Search_PurchaseOrders2\"\n",
    "\n",
    "headers = {\n",
    "    \"accept\": \"application/json\",\n",
    "    \"content-type\": \"application/json\",\n",
    "    \"Authorization\": access_token  \n",
    "}\n",
    "\n",
    "payload = {\n",
    "    \"searchParameters\": {\n",
    "        \"DateFrom\": \"2000-01-01T00:00:00\",  # Very early to get all\n",
    "        \"DateTo\": datetime.now().isoformat()\n",
    "    },\n",
    "    \"entriesPerPage\": 100,\n",
    "    \"pageNumber\": 1\n",
    "}\n",
    "\n",
    "all_orders = []\n",
    "\n",
    "while True:\n",
    "    response = requests.post(url, json=payload, headers=headers)\n",
    "    if response.status_code != 200:\n",
    "        print(f\"Error {response.status_code}: {response.text}\")\n",
    "        break\n",
    "\n",
    "    data = response.json()\n",
    "    orders = data.get(\"Result\", [])\n",
    "    all_orders.extend(orders)\n",
    "\n",
    "    total_pages = data.get(\"TotalPages\", 1)\n",
    "    current_page = data.get(\"CurrentPageNumber\", 1)\n",
    "\n",
    "    print(f\"Fetched page {current_page}/{total_pages}, {len(orders)} orders\")\n",
    "\n",
    "    if current_page >= total_pages:\n",
    "        break\n",
    "\n",
    "    payload[\"pageNumber\"] += 1\n",
    "\n",
    "# Convert to DataFrame with all fields\n",
    "df = pd.DataFrame(all_orders)\n",
    "\n"
   ]
  },
  {
   "cell_type": "code",
   "execution_count": null,
   "id": "4ee2483b-3f18-442f-823c-4c4ac65c0641",
   "metadata": {},
   "outputs": [
    {
     "ename": "RuntimeError",
     "evalue": "API error 429: \"API calls quota exceeded! Maximum admitted 150 per Minute.\"",
     "output_type": "error",
     "traceback": [
      "\u001b[0;31m---------------------------------------------------------------------------\u001b[0m",
      "\u001b[0;31mRuntimeError\u001b[0m                              Traceback (most recent call last)",
      "Cell \u001b[0;32mIn[30], line 30\u001b[0m\n\u001b[1;32m     28\u001b[0m response \u001b[38;5;241m=\u001b[39m requests\u001b[38;5;241m.\u001b[39mpost(url, json\u001b[38;5;241m=\u001b[39mpayload, headers\u001b[38;5;241m=\u001b[39mheaders)\n\u001b[1;32m     29\u001b[0m \u001b[38;5;28;01mif\u001b[39;00m response\u001b[38;5;241m.\u001b[39mstatus_code \u001b[38;5;241m!=\u001b[39m \u001b[38;5;241m200\u001b[39m:\n\u001b[0;32m---> 30\u001b[0m     \u001b[38;5;28;01mraise\u001b[39;00m \u001b[38;5;167;01mRuntimeError\u001b[39;00m(\u001b[38;5;124mf\u001b[39m\u001b[38;5;124m\"\u001b[39m\u001b[38;5;124mAPI error \u001b[39m\u001b[38;5;132;01m{\u001b[39;00mresponse\u001b[38;5;241m.\u001b[39mstatus_code\u001b[38;5;132;01m}\u001b[39;00m\u001b[38;5;124m: \u001b[39m\u001b[38;5;132;01m{\u001b[39;00mresponse\u001b[38;5;241m.\u001b[39mtext\u001b[38;5;132;01m}\u001b[39;00m\u001b[38;5;124m\"\u001b[39m)\n\u001b[1;32m     32\u001b[0m data \u001b[38;5;241m=\u001b[39m response\u001b[38;5;241m.\u001b[39mjson()\n\u001b[1;32m     33\u001b[0m count \u001b[38;5;241m=\u001b[39m \u001b[38;5;28mlen\u001b[39m(data)\n",
      "\u001b[0;31mRuntimeError\u001b[0m: API error 429: \"API calls quota exceeded! Maximum admitted 150 per Minute.\""
     ]
    }
   ],
   "source": [
    "\n",
    "headers = {\n",
    "    \"accept\": \"application/json\",\n",
    "    \"content-type\": \"application/json\",\n",
    "    \"Authorization\": access_token\n",
    "}\n",
    "\n",
    "entries_per_page = 100\n",
    "page_number = 1\n",
    "total_items = 0\n",
    "\n",
    "while True:\n",
    "    payload = {\n",
    "        \"keyword\": \"\",\n",
    "        \"loadCompositeParents\": True,\n",
    "        \"loadVariationParents\": True,\n",
    "        \"entriesPerPage\": entries_per_page,\n",
    "        \"pageNumber\": page_number,\n",
    "        \"dataRequirements\": [\"StockLevels\"],\n",
    "        \"searchTypes\": [\"SKU\"]\n",
    "    }\n",
    "\n",
    "    response = requests.post(url, json=payload, headers=headers)\n",
    "    if response.status_code != 200:\n",
    "        raise RuntimeError(f\"API error {response.status_code}: {response.text}\")\n",
    "\n",
    "    data = response.json()\n",
    "    count = len(data)\n",
    "    total_items += count\n",
    "\n",
    "    if not data:  # no more items\n",
    "        break\n",
    "\n",
    "    page_number += 1\n",
    "\n",
    "# Calculate total pages based on entries_per_page\n",
    "total_pages = math.ceil(total_items / entries_per_page)\n",
    "print(f\"Total items fetched: {total_items}\")\n",
    "print(f\"Estimated total pages: {total_pages}\")\n"
   ]
  },
  {
   "cell_type": "code",
   "execution_count": 29,
   "id": "62980534-ed5e-4937-9424-43141f5fd8b5",
   "metadata": {},
   "outputs": [
    {
     "data": {
      "text/plain": [
       "Suppliers                   200\n",
       "StockLevels                 200\n",
       "ItemChannelDescriptions     200\n",
       "ItemExtendedProperties      200\n",
       "ItemChannelTitles           200\n",
       "ItemChannelPrices           200\n",
       "Images                      200\n",
       "ItemNumber                  200\n",
       "ItemTitle                   200\n",
       "BarcodeNumber               200\n",
       "MetaData                    200\n",
       "IsVariationParent           200\n",
       "isBatchedStockType          200\n",
       "PurchasePrice               200\n",
       "TaxRate                     200\n",
       "PostalServiceId             200\n",
       "CategoryId                  200\n",
       "CategoryName                200\n",
       "PackageGroupId              200\n",
       "Height                      200\n",
       "Width                       200\n",
       "Depth                       200\n",
       "Weight                      200\n",
       "CreationDate                200\n",
       "InventoryTrackingType       200\n",
       "BatchNumberScanRequired     200\n",
       "SerialNumberScanRequired    200\n",
       "StockItemId                 200\n",
       "StockItemIntId              200\n",
       "dtype: int64"
      ]
     },
     "execution_count": 29,
     "metadata": {},
     "output_type": "execute_result"
    }
   ],
   "source": [
    "df.count()"
   ]
  },
  {
   "cell_type": "code",
   "execution_count": 31,
   "id": "ebd8ab5e-4457-4974-96ec-5eb3bde618b8",
   "metadata": {},
   "outputs": [
    {
     "data": {
      "text/plain": [
       "Index(['Suppliers', 'StockLevels', 'ItemChannelDescriptions',\n",
       "       'ItemExtendedProperties', 'ItemChannelTitles', 'ItemChannelPrices',\n",
       "       'Images', 'ItemNumber', 'ItemTitle', 'BarcodeNumber', 'MetaData',\n",
       "       'IsVariationParent', 'isBatchedStockType', 'PurchasePrice', 'TaxRate',\n",
       "       'PostalServiceId', 'CategoryId', 'CategoryName', 'PackageGroupId',\n",
       "       'Height', 'Width', 'Depth', 'Weight', 'CreationDate',\n",
       "       'InventoryTrackingType', 'BatchNumberScanRequired',\n",
       "       'SerialNumberScanRequired', 'StockItemId', 'StockItemIntId'],\n",
       "      dtype='object')"
      ]
     },
     "execution_count": 31,
     "metadata": {},
     "output_type": "execute_result"
    }
   ],
   "source": [
    "df.columns"
   ]
  },
  {
   "cell_type": "code",
   "execution_count": 34,
   "id": "9819c8b2-6470-46ad-a6bb-bf336644c572",
   "metadata": {},
   "outputs": [],
   "source": [
    "pd.set_option('display.max_colwidth', None)"
   ]
  },
  {
   "cell_type": "code",
   "execution_count": 38,
   "id": "5e12d72a-bb2e-432b-9932-a79c66e7f34d",
   "metadata": {},
   "outputs": [
    {
     "data": {
      "text/plain": [
       "199    [{'Location': {'StockLocationId': '00000000-0000-0000-0000-000000000000', 'StockLocationIntId': 1, 'LocationName': 'Default', 'LocationTag': '', 'IsFulfillmentCenter': False, 'IsWarehouseManaged': False, 'BinRack': ''}, 'StockLevel': 0, 'StockValue': 0.0, 'MinimumLevel': 4, 'InOrderBook': 0, 'Due': 0, 'JIT': False, 'InOrders': 0, 'Available': 0, 'UnitCost': 0.0, 'AutoAdjust': False, 'LastUpdateDate': '2025-06-23T20:30:46.077Z', 'LastUpdateOperation': 'Imported from file', 'rowid': '00000000-0000-0000-0000-000000000000', 'PendingUpdate': False, 'StockItemPurchasePrice': 0.0, 'StockItemId': '653a39bb-9ac0-4581-9b11-8e10beee13d1', 'StockItemIntId': 0}, {'Location': {'StockLocationId': 'd3fc787a-596a-43a5-aaba-8baf9f3554fd', 'StockLocationIntId': 39, 'LocationName': 'Armorgard', 'LocationTag': '', 'IsFulfillmentCenter': True, 'IsWarehouseManaged': False, 'BinRack': ''}, 'StockLevel': 5, 'StockValue': 736.35, 'MinimumLevel': 4, 'InOrderBook': 0, 'Due': 0, 'JIT': False, 'InOrders': 0, 'Available': 5, 'UnitCost': 147.27, 'AutoAdjust': False, 'LastUpdateDate': '2025-09-03T15:28:10.293Z', 'LastUpdateOperation': 'Imported from file by supplied code', 'rowid': '00000000-0000-0000-0000-000000000000', 'PendingUpdate': False, 'StockItemPurchasePrice': 0.0, 'StockItemId': '653a39bb-9ac0-4581-9b11-8e10beee13d1', 'StockItemIntId': 0}]\n",
       "Name: StockLevels, dtype: object"
      ]
     },
     "execution_count": 38,
     "metadata": {},
     "output_type": "execute_result"
    }
   ],
   "source": [
    "df['StockLevels'].tail(1)"
   ]
  },
  {
   "cell_type": "code",
   "execution_count": null,
   "id": "cd7c1d56-5e27-4b04-a69c-47b077705845",
   "metadata": {},
   "outputs": [],
   "source": []
  }
 ],
 "metadata": {
  "kernelspec": {
   "display_name": "Python [conda env:.conda-pythonProject1]",
   "language": "python",
   "name": "conda-env-.conda-pythonProject1-py"
  },
  "language_info": {
   "codemirror_mode": {
    "name": "ipython",
    "version": 3
   },
   "file_extension": ".py",
   "mimetype": "text/x-python",
   "name": "python",
   "nbconvert_exporter": "python",
   "pygments_lexer": "ipython3",
   "version": "3.10.8"
  }
 },
 "nbformat": 4,
 "nbformat_minor": 5
}
